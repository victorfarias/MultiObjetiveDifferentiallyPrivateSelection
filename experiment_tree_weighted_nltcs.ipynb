{
 "cells": [
  {
   "cell_type": "code",
   "execution_count": 1,
   "metadata": {},
   "outputs": [],
   "source": [
    "import numpy as np\n",
    "\n",
    "import experiment_tree_weighted as et"
   ]
  },
  {
   "cell_type": "code",
   "execution_count": 2,
   "metadata": {},
   "outputs": [],
   "source": [
    "dataset_name = 'NLTCS'\n",
    "csv_path = f\"./out/weighted_trees/{dataset_name.lower()}.csv\""
   ]
  },
  {
   "cell_type": "code",
   "execution_count": 3,
   "metadata": {},
   "outputs": [],
   "source": [
    "from data.loader import load_nltcs\n",
    "\n",
    "dataset = load_nltcs()\n"
   ]
  },
  {
   "cell_type": "code",
   "execution_count": 4,
   "metadata": {},
   "outputs": [],
   "source": [
    "from experiment_tree_weighted import open_logger\n",
    "# Erases log file!\n",
    "\n",
    "logger = open_logger(csv_path)"
   ]
  },
  {
   "cell_type": "code",
   "execution_count": null,
   "metadata": {},
   "outputs": [],
   "source": [
    "et.experiment_tree_weighted_nodp(dataset, logger=logger)"
   ]
  },
  {
   "cell_type": "code",
   "execution_count": null,
   "metadata": {},
   "outputs": [],
   "source": [
    "et.experiment_tree_weighted_dp(dataset, logger=logger)"
   ]
  },
  {
   "cell_type": "code",
   "execution_count": null,
   "metadata": {},
   "outputs": [],
   "source": [
    "et.experiment_tree_weighted_dp_ld(dataset, logger=logger)"
   ]
  },
  {
   "cell_type": "code",
   "execution_count": 8,
   "metadata": {},
   "outputs": [],
   "source": [
    "logger.close()"
   ]
  },
  {
   "cell_type": "code",
   "execution_count": null,
   "metadata": {},
   "outputs": [],
   "source": [
    "from utils import graphics\n",
    "import pandas as pd\n",
    "\n",
    "df = pd.read_csv(csv_path)\n",
    "\n",
    "id3_tprs = np.array([\n",
    "    0.4755102040816327,\n",
    "    0.5452784503631961,\n",
    "    0.6185057073676928,\n",
    "    0.7202352127291594,\n",
    "    0.7074368730543065,\n",
    "    0.7320650294015911\n",
    "])\n",
    "\n",
    "id3_tnrs = np.array([\n",
    "    0.7650981319460867,\n",
    "    0.867320879640577,\n",
    "    0.857720501300544,\n",
    "    0.898462993615512,\n",
    "    0.9133364861669426,\n",
    "    0.9093875620714117\n",
    "])\n",
    "\n",
    "y_id3 = id3_tprs*et.w_tpr + id3_tnrs*et.w_tnr\n",
    "\n",
    "ys = [\n",
    "    np.repeat(df[df['method']=='nodp_weighted_tree']['fitness'], len(et.epsilons)),\n",
    "    df[df['method']=='weighted_tree_dp_exponential']['fitness'].values,\n",
    "    df[df['method']=='weighted_tree_dp_ld']['fitness'].values,\n",
    "    y_id3\n",
    "]\n",
    "\n",
    "\n",
    "graphics.line_plot(\n",
    "    [str(e) for e in et.epsilons], \n",
    "    ys,\n",
    "    line_legends=['No DP', 'Exponential', 'Local Dampening', 'Private ID3'],\n",
    "    # xlog=True,\n",
    "    xlabel='epsilon',\n",
    "    ylabel='Fitness',\n",
    "    title=f'Fitness vs Epsilon for {dataset_name}',\n",
    ")"
   ]
  },
  {
   "cell_type": "code",
   "execution_count": null,
   "metadata": {},
   "outputs": [],
   "source": [
    "print('DP-MOET-AGG-GLOBAL')\n",
    "for i in range(len(et.epsilons)):\n",
    "    print(f\"({i+1}, {ys[1][i]})\")    \n",
    "\n",
    "\n",
    "print()\n",
    "print('DP-MOET-AGG-PARETO')\n",
    "for i in range(len(et.epsilons)):\n",
    "    print(f\"({i+1}, {ys[2][i]})\") \n",
    "\n",
    "\n",
    "print()\n",
    "print('Private ID3')\n",
    "for i in range(len(et.epsilons)):\n",
    "    print(f\"({i+1}, {ys[3][i]})\") \n",
    "\n",
    "print()\n",
    "print(ys[0])\n",
    "\n",
    "print()\n",
    "print(np.mean(np.abs(ys[3] - ys[2])/ys[3]))\n",
    "print(ys[2])\n",
    "print(ys[3])\n"
   ]
  }
 ],
 "metadata": {
  "kernelspec": {
   "display_name": "Python 3",
   "language": "python",
   "name": "python3"
  },
  "language_info": {
   "codemirror_mode": {
    "name": "ipython",
    "version": 3
   },
   "file_extension": ".py",
   "mimetype": "text/x-python",
   "name": "python",
   "nbconvert_exporter": "python",
   "pygments_lexer": "ipython3",
   "version": "3.10.12"
  },
  "orig_nbformat": 4
 },
 "nbformat": 4,
 "nbformat_minor": 2
}
