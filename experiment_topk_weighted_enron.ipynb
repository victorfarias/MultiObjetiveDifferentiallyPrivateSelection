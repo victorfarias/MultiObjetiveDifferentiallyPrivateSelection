{
 "cells": [
  {
   "cell_type": "code",
   "execution_count": 1,
   "metadata": {},
   "outputs": [],
   "source": [
    "import numpy as np\n",
    "\n",
    "import experiment_topk_weighted as experiment"
   ]
  },
  {
   "cell_type": "code",
   "execution_count": 2,
   "metadata": {},
   "outputs": [],
   "source": [
    "dataset_name = \"Enron\"\n",
    "csv_path = f'./out/topk_weighted/{dataset_name.lower()}.csv'"
   ]
  },
  {
   "cell_type": "code",
   "execution_count": 3,
   "metadata": {},
   "outputs": [],
   "source": [
    "from data.loader import load_enron\n",
    "\n",
    "g = load_enron()"
   ]
  },
  {
   "cell_type": "code",
   "execution_count": 4,
   "metadata": {},
   "outputs": [],
   "source": [
    "\n",
    "logger = experiment.open_logger(csv_path)"
   ]
  },
  {
   "cell_type": "code",
   "execution_count": null,
   "metadata": {},
   "outputs": [],
   "source": [
    "import experiment_topk_weighted as experiment\n",
    "\n",
    "experiment.experiment_topk_weighted_exp(g, logger)"
   ]
  },
  {
   "cell_type": "code",
   "execution_count": null,
   "metadata": {},
   "outputs": [],
   "source": [
    "experiment.experiment_topk_weighted_ld(g, logger)"
   ]
  },
  {
   "cell_type": "code",
   "execution_count": 7,
   "metadata": {},
   "outputs": [],
   "source": [
    "logger.close()"
   ]
  },
  {
   "cell_type": "code",
   "execution_count": null,
   "metadata": {},
   "outputs": [],
   "source": [
    "import pandas as pd\n",
    "from utils import graphics\n",
    "\n",
    "\n",
    "df = pd.read_csv(csv_path)\n",
    "mean_df = df.groupby(['method', 'k', 'epsilon']).mean()[['recall']]\n",
    "\n",
    "for k in experiment.ks:\n",
    "    ys = [\n",
    "        mean_df.loc[\"TopKWeightedExponential\", k][\"recall\"].to_numpy(),\n",
    "        mean_df.loc[\"TopKWeightedLocalDampening\", k][\"recall\"].to_numpy(),\n",
    "    ]\n",
    "\n",
    "    graphics.line_plot(\n",
    "        experiment.epsilons, \n",
    "        ys,\n",
    "        line_legends=['Exponential', 'Local Dampening'],\n",
    "        xlog=True,\n",
    "        xlabel='epsilon',\n",
    "        ylabel='Recall',\n",
    "        title=dataset_name\n",
    "    )\n",
    "\n",
    "    print(experiment.epsilons)\n",
    "    print(ys[0])\n",
    "    print(ys[1])"
   ]
  },
  {
   "cell_type": "code",
   "execution_count": null,
   "metadata": {},
   "outputs": [],
   "source": [
    "for i in range(len(experiment.epsilons)-3):\n",
    "    print(f\"({i+1}, {experiment.epsilons[i]})\")    \n",
    "\n",
    "print()\n",
    "for i in range(len(experiment.epsilons)-3):\n",
    "    print(f\"${experiment.epsilons[i]}$, \", end=\"\")    \n",
    "\n",
    "print()\n",
    "print('DP-MOTkIN-Agg-Global')\n",
    "for i in range(len(experiment.epsilons)-3):\n",
    "    print(f\"({i+1}, {ys[0][i]})\")    \n",
    "\n",
    "\n",
    "print()\n",
    "print('DP-MOTkIN-Agg-Local')\n",
    "for i in range(len(experiment.epsilons)-3):\n",
    "    print(f\"({i+1}, {ys[1][i]})\") "
   ]
  }
 ],
 "metadata": {
  "kernelspec": {
   "display_name": "Python 3",
   "language": "python",
   "name": "python3"
  },
  "language_info": {
   "codemirror_mode": {
    "name": "ipython",
    "version": 3
   },
   "file_extension": ".py",
   "mimetype": "text/x-python",
   "name": "python",
   "nbconvert_exporter": "python",
   "pygments_lexer": "ipython3",
   "version": "3.10.12"
  },
  "orig_nbformat": 4
 },
 "nbformat": 4,
 "nbformat_minor": 2
}
