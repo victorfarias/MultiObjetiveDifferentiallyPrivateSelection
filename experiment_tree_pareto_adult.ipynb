{
 "cells": [
  {
   "cell_type": "code",
   "execution_count": null,
   "metadata": {},
   "outputs": [],
   "source": [
    "import numpy as np\n",
    "\n",
    "import experiment_tree_pareto as experiment"
   ]
  },
  {
   "cell_type": "code",
   "execution_count": 2,
   "metadata": {},
   "outputs": [],
   "source": [
    "dataset_name = 'Adult'\n",
    "\n",
    "csv_path = f'./out/pareto_trees/{dataset_name.lower()}.csv'"
   ]
  },
  {
   "cell_type": "code",
   "execution_count": 3,
   "metadata": {},
   "outputs": [],
   "source": [
    "from data.loader import load_adult\n",
    "\n",
    "dataset = load_adult()"
   ]
  },
  {
   "cell_type": "code",
   "execution_count": 4,
   "metadata": {},
   "outputs": [],
   "source": [
    "logger = experiment.open_logger(csv_path)"
   ]
  },
  {
   "cell_type": "code",
   "execution_count": null,
   "metadata": {},
   "outputs": [],
   "source": [
    "experiment.experiment_tree_pareto_exp(dataset, logger)"
   ]
  },
  {
   "cell_type": "code",
   "execution_count": null,
   "metadata": {},
   "outputs": [],
   "source": [
    "experiment.experiment_tree_pareto_ld(dataset, logger)"
   ]
  },
  {
   "cell_type": "code",
   "execution_count": null,
   "metadata": {},
   "outputs": [],
   "source": [
    "logger.close()"
   ]
  },
  {
   "cell_type": "code",
   "execution_count": null,
   "metadata": {},
   "outputs": [],
   "source": [
    "import pandas as pd\n",
    "from utils import graphics\n",
    "\n",
    "\n",
    "df = pd.read_csv(csv_path)\n",
    "mean_df = df.groupby(['method1', 'method2', 'epsilon']).mean()[['method1_dominates_method2', 'method2_dominates_method1']]\n",
    "\n",
    "\n",
    "ys = [\n",
    "    mean_df.loc[\"no_privacy\", \"exp_mec\"][\"method1_dominates_method2\"].to_numpy(),\n",
    "    mean_df.loc[\"no_privacy\", \"local_dampening_local\"][\"method1_dominates_method2\"].to_numpy(),\n",
    "]\n",
    "\n",
    "graphics.line_plot(\n",
    "    experiment.epsilons, \n",
    "    ys,\n",
    "    line_legends=['Exponential', 'Local Dampening Local'],\n",
    "    xlog=True,\n",
    "    xlabel='epsilon',\n",
    "    ylabel='No DP Dominancece',\n",
    "    title=dataset_name,    \n",
    ")\n",
    "\n",
    "print(experiment.epsilons)\n",
    "print(ys[0])\n",
    "print(ys[1])"
   ]
  },
  {
   "cell_type": "code",
   "execution_count": null,
   "metadata": {},
   "outputs": [],
   "source": [
    "for i in range(len(experiment.epsilons)):\n",
    "    print(f'{experiment.epsilons[i]} & {ys[0][i]:.2f} & {ys[1][i]:.2f}')"
   ]
  }
 ],
 "metadata": {
  "kernelspec": {
   "display_name": "Python 3",
   "language": "python",
   "name": "python3"
  },
  "language_info": {
   "codemirror_mode": {
    "name": "ipython",
    "version": 3
   },
   "file_extension": ".py",
   "mimetype": "text/x-python",
   "name": "python",
   "nbconvert_exporter": "python",
   "pygments_lexer": "ipython3",
   "version": "3.10.12"
  }
 },
 "nbformat": 4,
 "nbformat_minor": 2
}
