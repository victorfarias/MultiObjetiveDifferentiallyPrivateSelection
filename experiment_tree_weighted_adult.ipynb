{
 "cells": [
  {
   "cell_type": "code",
   "execution_count": 1,
   "metadata": {},
   "outputs": [],
   "source": [
    "import numpy as np\n",
    "\n",
    "import experiment_tree_weighted as et\n",
    "\n",
    "dataset_name = 'ADULT'\n",
    "csv_path = f\"./out/weighted_trees/{dataset_name.lower()}.csv\""
   ]
  },
  {
   "cell_type": "code",
   "execution_count": 2,
   "metadata": {},
   "outputs": [],
   "source": [
    "from data.loader import load_adult\n",
    "\n",
    "dataset = load_adult()"
   ]
  },
  {
   "cell_type": "code",
   "execution_count": 3,
   "metadata": {},
   "outputs": [],
   "source": [
    "from experiment_tree_weighted import open_logger\n",
    "\n",
    "# Erases log file!\n",
    "\n",
    "logger = open_logger(csv_path)"
   ]
  },
  {
   "cell_type": "code",
   "execution_count": null,
   "metadata": {},
   "outputs": [],
   "source": [
    "et.experiment_tree_weighted_nodp(dataset, logger=logger)"
   ]
  },
  {
   "cell_type": "code",
   "execution_count": null,
   "metadata": {},
   "outputs": [],
   "source": [
    "et.experiment_tree_weighted_dp(dataset, logger=logger)"
   ]
  },
  {
   "cell_type": "code",
   "execution_count": null,
   "metadata": {},
   "outputs": [],
   "source": [
    "et.experiment_tree_weighted_dp_ld(dataset, logger=logger)"
   ]
  },
  {
   "cell_type": "code",
   "execution_count": 7,
   "metadata": {},
   "outputs": [],
   "source": [
    "logger.close()"
   ]
  },
  {
   "cell_type": "code",
   "execution_count": null,
   "metadata": {},
   "outputs": [],
   "source": [
    "import pandas as pd\n",
    "from utils import graphics\n",
    "\n",
    "df = pd.read_csv(csv_path)\n",
    "\n",
    "id3_tprs = np.array([\n",
    "    0.22001068661501466,\n",
    "    0.2771306438685546,\n",
    "    0.4645204381512157,\n",
    "    0.5145605129575206,\n",
    "    0.5455249799625969,\n",
    "    0.5431204915842908\n",
    "])\n",
    "\n",
    "id3_tnrs = np.array([\n",
    "    0.8629102942491726,\n",
    "    0.873893211698417,\n",
    "    0.8387264108755925,\n",
    "    0.8728020749485734,\n",
    "    0.8752973794830516,\n",
    "    0.8844289419551025\n",
    "])\n",
    "\n",
    "y_id3 = id3_tprs*et.w_tpr + id3_tnrs*et.w_tnr\n",
    "\n",
    "ys = [\n",
    "    np.repeat(df[df['method']=='nodp_weighted_tree']['fitness'], len(et.epsilons)),\n",
    "    df[df['method']=='weighted_tree_dp_exponential']['fitness'].values,\n",
    "    df[df['method']=='weighted_tree_dp_ld']['fitness'].values,\n",
    "    y_id3\n",
    "]\n",
    "\n",
    "\n",
    "\n",
    "graphics.line_plot(\n",
    "    [str(e) for e in et.epsilons], \n",
    "    ys,\n",
    "    line_legends=['No DP', 'Exponential', 'Local Dampening', 'Private ID3'],\n",
    "    # xlog=True,\n",
    "    xlabel='epsilon',\n",
    "    ylabel='Fitness',\n",
    "    title=f'Fitness vs Epsilon for {dataset_name}',\n",
    ")"
   ]
  },
  {
   "cell_type": "code",
   "execution_count": null,
   "metadata": {},
   "outputs": [],
   "source": [
    "print('DP-MOET-AGG-GLOBAL')\n",
    "for i in range(len(et.epsilons)):\n",
    "    print(f\"({i+1}, {ys[1][i]})\")    \n",
    "\n",
    "\n",
    "print()\n",
    "print('DP-MOET-AGG-PARETO')\n",
    "for i in range(len(et.epsilons)):\n",
    "    print(f\"({i+1}, {ys[2][i]})\") \n",
    "\n",
    "\n",
    "print()\n",
    "print('Private ID3')\n",
    "for i in range(len(et.epsilons)):\n",
    "    print(f\"({i+1}, {ys[3][i]})\") \n",
    "\n",
    "print()\n",
    "print(ys[0])\n",
    "\n",
    "print()\n",
    "print(np.mean(np.abs(ys[3] - ys[2])/ys[3]))\n",
    "print(ys[2])\n",
    "print(ys[3])\n"
   ]
  }
 ],
 "metadata": {
  "kernelspec": {
   "display_name": "Python 3",
   "language": "python",
   "name": "python3"
  },
  "language_info": {
   "codemirror_mode": {
    "name": "ipython",
    "version": 3
   },
   "file_extension": ".py",
   "mimetype": "text/x-python",
   "name": "python",
   "nbconvert_exporter": "python",
   "pygments_lexer": "ipython3",
   "version": "3.10.12"
  },
  "orig_nbformat": 4
 },
 "nbformat": 4,
 "nbformat_minor": 2
}
