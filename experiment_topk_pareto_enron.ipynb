{
 "cells": [
  {
   "cell_type": "code",
   "execution_count": 11,
   "metadata": {},
   "outputs": [],
   "source": [
    "import numpy as np\n",
    "\n",
    "import experiment_topk_pareto as experiment"
   ]
  },
  {
   "cell_type": "code",
   "execution_count": 12,
   "metadata": {},
   "outputs": [],
   "source": [
    "dataset_name = \"Enron\"\n",
    "csv_path = f'./out/topk_pareto/{dataset_name.lower()}.csv'"
   ]
  },
  {
   "cell_type": "code",
   "execution_count": 13,
   "metadata": {},
   "outputs": [],
   "source": [
    "from data.loader import load_enron\n",
    "\n",
    "g = load_enron()"
   ]
  },
  {
   "cell_type": "code",
   "execution_count": 14,
   "metadata": {},
   "outputs": [],
   "source": [
    "logger = experiment.open_logger(csv_path)"
   ]
  },
  {
   "cell_type": "code",
   "execution_count": null,
   "metadata": {},
   "outputs": [],
   "source": [
    "experiment.experiment_topk_pareto_exp(g, logger)"
   ]
  },
  {
   "cell_type": "code",
   "execution_count": null,
   "metadata": {},
   "outputs": [],
   "source": [
    "experiment.experiment_topk_pareto_ld(g, logger)"
   ]
  },
  {
   "cell_type": "code",
   "execution_count": 17,
   "metadata": {},
   "outputs": [],
   "source": [
    "logger.close()"
   ]
  },
  {
   "cell_type": "code",
   "execution_count": null,
   "metadata": {},
   "outputs": [],
   "source": [
    "import pandas as pd\n",
    "from utils import graphics\n",
    "\n",
    "\n",
    "df = pd.read_csv(csv_path)\n",
    "mean_df = df.groupby(['method1', 'method2', 'epsilon']).mean()[['method1_dominates_method2', 'method2_dominates_method1']]\n",
    "\n",
    "ys = [\n",
    "    mean_df.loc[\"TopkParetoNoDP\", 'TopKParetoExponential'][\"method1_dominates_method2\"].to_numpy(),\n",
    "    mean_df.loc[\"TopkParetoNoDP\", 'TopKWeightedLocalDampeningLS'][\"method1_dominates_method2\"].to_numpy(),\n",
    "]\n",
    "\n",
    "graphics.line_plot(\n",
    "    experiment.epsilons, \n",
    "    ys,\n",
    "    line_legends=['Exponential', 'Local Dampening Local'],\n",
    "    xlog=True,\n",
    "    xlabel='epsilon',\n",
    "    ylabel='No DP Dominance',\n",
    "    title=dataset_name\n",
    ")\n",
    "\n",
    "print(experiment.epsilons)\n",
    "print(ys[0])\n",
    "print(ys[1])\n"
   ]
  },
  {
   "cell_type": "code",
   "execution_count": null,
   "metadata": {},
   "outputs": [],
   "source": [
    "print(len(experiment.epsilons))\n",
    "print(experiment.epsilons)\n",
    "print(len(ys[0]))\n",
    "print(len(ys[1]))\n",
    "for i in range(len(experiment.epsilons)):\n",
    "    print(f'{experiment.epsilons[i]} & {ys[0][i]:.2f} & {ys[1][i]:.2f}')"
   ]
  },
  {
   "cell_type": "code",
   "execution_count": null,
   "metadata": {},
   "outputs": [],
   "source": [
    "eds = g.ed()\n",
    "degrees = g.degrees().astype(np.float64)\n",
    "print(eds)\n",
    "print(degrees)\n",
    "\n",
    "print(np.mean(eds))\n",
    "print(np.mean(degrees))\n",
    "\n",
    "print(np.std(eds))\n",
    "print(np.std(degrees))\n"
   ]
  }
 ],
 "metadata": {
  "kernelspec": {
   "display_name": "Python 3",
   "language": "python",
   "name": "python3"
  },
  "language_info": {
   "codemirror_mode": {
    "name": "ipython",
    "version": 3
   },
   "file_extension": ".py",
   "mimetype": "text/x-python",
   "name": "python",
   "nbconvert_exporter": "python",
   "pygments_lexer": "ipython3",
   "version": "3.10.12"
  },
  "orig_nbformat": 4
 },
 "nbformat": 4,
 "nbformat_minor": 2
}
